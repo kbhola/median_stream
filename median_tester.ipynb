{
 "cells": [
  {
   "cell_type": "code",
   "execution_count": 154,
   "metadata": {
    "collapsed": true
   },
   "outputs": [],
   "source": [
    "%matplotlib inline\n",
    "import numpy as np\n",
    "import matplotlib.pyplot as plt\n",
    "import seaborn as sns\n",
    "import subprocess\n",
    "import time\n",
    "import hashlib\n",
    "import math"
   ]
  },
  {
   "cell_type": "code",
   "execution_count": 262,
   "metadata": {
    "collapsed": true
   },
   "outputs": [],
   "source": [
    "c_int_mx_pos = pow(2,31) # max positive signed 32-bit int\n",
    "# 2's complement arithmetic, so there is one extra negative inta\n",
    "c_int_mn_neg = -1*c_int_mx_pos - 1 \n",
    "num_ints = 10*1000*1000 # 10 million integers for testing"
   ]
  },
  {
   "cell_type": "code",
   "execution_count": 263,
   "metadata": {
    "collapsed": false
   },
   "outputs": [],
   "source": [
    "# grab 10 million uniformly distributred random 32-bit ints\n",
    "# note that the \"high\" argument is exclusive, hence the \"+1\"\n",
    "ten_million_rand_ints = np.random.randint(low=c_int_mn_neg,\n",
    "                                          high=c_int_mx_pos +1,\n",
    "                                          size=num_ints)\n",
    "\n",
    "tn_rand_ints_str = ' '.join(map(str, ten_million_rand_ints))"
   ]
  },
  {
   "cell_type": "code",
   "execution_count": 264,
   "metadata": {
    "collapsed": true
   },
   "outputs": [],
   "source": [
    "def sha256(input):  \n",
    "    # for quickly checking equality of strings (or files)\n",
    "    return (hashlib.sha256(input.encode('raw_unicode_escape')).digest())[1:].decode('raw_unicode_escape')"
   ]
  },
  {
   "cell_type": "code",
   "execution_count": 265,
   "metadata": {
    "collapsed": false
   },
   "outputs": [],
   "source": [
    "def get_output(binary_name, input_str):\n",
    "    start_time = time.time()\n",
    "    # this passes the input_str the stdin for the binary\n",
    "    oput = (subprocess.check_output([binary_name],\n",
    "                                    input=bytes(input_str.encode('utf-8')))).decode('utf-8')\n",
    "    end_time = time.time()\n",
    "    return (end_time - start_time, oput)\n",
    "    \n"
   ]
  },
  {
   "cell_type": "code",
   "execution_count": 266,
   "metadata": {
    "collapsed": false
   },
   "outputs": [],
   "source": [
    "def run_test(binary_name, start_size, end_size, int_samples, inc=1):\n",
    "    exec_times = [get_output(binary_name, int_samples[0: start_size + j*inc])[0] \n",
    "                     for j in range(math.floor((end_size - start_size)/inc))]\n",
    "    return exec_times\n",
    "    "
   ]
  },
  {
   "cell_type": "code",
   "execution_count": 267,
   "metadata": {
    "collapsed": false
   },
   "outputs": [],
   "source": [
    "# The binary names\n",
    "# The first two are solutions using only my data structures\n",
    "# The second 2 use a simple STL solution using a vector\n",
    "min_max_heap = './median_stream_stdin1'\n",
    "my_sorted_array = './median_stream_stdin2'\n",
    "stl_sorted_vector = './median_stream_stdin3'\n",
    "stl_sorted_vector_reserve = './median_stream_stdin4'"
   ]
  },
  {
   "cell_type": "code",
   "execution_count": null,
   "metadata": {
    "collapsed": false
   },
   "outputs": [],
   "source": [
    "#(exec_time, oput1) = get_output(min_max_heap, tn_rand_ints_str)\n",
    "end_sz = 10*1000*1000 - 1\n",
    "start_sz = 1\n",
    "inc = 10000\n",
    "exec_times1 = run_test(min_max_heap, start_size=start_sz, end_size=end_sz, int_samples=tn_rand_ints_str, inc=inc )\n",
    "exec_times2 = run_test(my_sorted_array,start_size=start_sz, end_size=end_sz,int_samples=tn_rand_ints_str,inc=inc)"
   ]
  },
  {
   "cell_type": "code",
   "execution_count": null,
   "metadata": {
    "collapsed": false
   },
   "outputs": [],
   "source": []
  },
  {
   "cell_type": "code",
   "execution_count": null,
   "metadata": {
    "collapsed": true
   },
   "outputs": [],
   "source": [
    "exec_times3 = run_test(stl_sorted_vector,start_size=start_sz,end_size=end_sz,int_samples=tn_rand_ints_str,inc=inc)"
   ]
  },
  {
   "cell_type": "code",
   "execution_count": null,
   "metadata": {
    "collapsed": true
   },
   "outputs": [],
   "source": [
    "exec_times4 = run_test(stl_sorted_vector_reserve,start_size=start_sz,end_size=end_sz,int_samples=tn_rand_ints_str,inc=inc)"
   ]
  },
  {
   "cell_type": "code",
   "execution_count": null,
   "metadata": {
    "collapsed": false
   },
   "outputs": [],
   "source": [
    "\n",
    "x = [start_sz + j*inc for j in range(math.floor((end_sz-start_sz)/inc))]"
   ]
  },
  {
   "cell_type": "code",
   "execution_count": null,
   "metadata": {
    "collapsed": false
   },
   "outputs": [],
   "source": [
    "x_squared = [k*k/100000000000.0 for k in x]\n",
    "x_logx = [k*math.log(k)/10000000.0 for k in x]"
   ]
  },
  {
   "cell_type": "code",
   "execution_count": null,
   "metadata": {
    "collapsed": false
   },
   "outputs": [],
   "source": [
    "sns.plt.plot(x, exec_times1, 'b')\n",
    "sns.plt.plot(x, exec_times2)\n",
    "sns.plt.plot(x, exec_times3, 'r--')\n",
    "sns.plt.plot(x, exec_times4, 'g*')\n",
    "\n",
    "sns.set(palette='dark')\n",
    "    \n",
    "#plt.show()\n",
    "#plt.plot(x, x_squared)\n",
    "#plt.plot(x, x_logx)"
   ]
  },
  {
   "cell_type": "code",
   "execution_count": 232,
   "metadata": {
    "collapsed": false
   },
   "outputs": [
    {
     "name": "stdout",
     "output_type": "stream",
     "text": [
      "1459086983.436315\n",
      "1459086988.438736\n"
     ]
    }
   ],
   "source": [
    "cur_time = time.time()\n",
    "time.sleep(5)\n",
    "cur_time2 = time.time()\n",
    "\n",
    "print(cur_time)\n",
    "print(cur_time2)"
   ]
  },
  {
   "cell_type": "code",
   "execution_count": 96,
   "metadata": {
    "collapsed": false
   },
   "outputs": [
    {
     "data": {
      "text/plain": [
       "[<matplotlib.lines.Line2D at 0x1252d1ef0>]"
      ]
     },
     "execution_count": 96,
     "metadata": {},
     "output_type": "execute_result"
    },
    {
     "data": {
      "image/png": "[encoded data removed]",
      "text/plain": [
       "<matplotlib.figure.Figure at 0x1250dfa90>"
      ]
     },
     "metadata": {},
     "output_type": "display_data"
    }
   ],
   "source": [
    "x = (1,2,3,4)\n",
    "y = (2,4,6,99)\n",
    "#print(sns.palettes.SEABORN_PALETTES)\n",
    "sns.set(palette='dark')\n",
    "sns.plt.plot(x,y)\n",
    "sns.plt.plot([2*j for j in x], y)"
   ]
  }
 ],
 "metadata": {
  "kernelspec": {
   "display_name": "Python 3",
   "language": "python",
   "name": "python3"
  },
  "language_info": {
   "codemirror_mode": {
    "name": "ipython",
    "version": 3
   },
   "file_extension": ".py",
   "mimetype": "text/x-python",
   "name": "python",
   "nbconvert_exporter": "python",
   "pygments_lexer": "ipython3",
   "version": "3.5.1"
  }
 },
 "nbformat": 4,
 "nbformat_minor": 0
}
